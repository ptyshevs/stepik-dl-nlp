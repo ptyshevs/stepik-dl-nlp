{
 "cells": [
  {
   "cell_type": "markdown",
   "metadata": {},
   "source": [
    "# Word2Vec"
   ]
  },
  {
   "cell_type": "code",
   "execution_count": null,
   "metadata": {},
   "outputs": [],
   "source": [
    "# Если Вы запускаете ноутбук на colab,\n",
    "# выполните следующие строчки, чтобы подгрузить библиотеку dlnlputils:\n",
    "\n",
    "# !git clone https://github.com/Samsung-IT-Academy/stepik-dl-nlp.git\n",
    "# import sys; sys.path.append('/content/stepik-dl-nlp')"
   ]
  },
  {
   "cell_type": "code",
   "execution_count": 1,
   "metadata": {
    "ExecuteTime": {
     "end_time": "2019-10-29T19:19:30.785285Z",
     "start_time": "2019-10-29T19:19:29.542846Z"
    }
   },
   "outputs": [],
   "source": [
    "%load_ext autoreload\n",
    "%autoreload 2\n",
    "\n",
    "import random\n",
    "import pandas as pd\n",
    "import numpy as np\n",
    "\n",
    "import matplotlib.pyplot as plt\n",
    "%matplotlib inline\n",
    "\n",
    "import torch\n",
    "from torch import nn\n",
    "from torch.nn import functional as F\n",
    "\n",
    "import dlnlputils\n",
    "from dlnlputils.data import tokenize_corpus, build_vocabulary, texts_to_token_ids, \\\n",
    "    PaddedSequenceDataset, Embeddings\n",
    "from dlnlputils.pipeline import train_eval_loop, predict_with_model, init_random_seed\n",
    "from dlnlputils.visualization import plot_vectors\n",
    "\n",
    "init_random_seed()"
   ]
  },
  {
   "cell_type": "markdown",
   "metadata": {},
   "source": [
    "## Загрузка данных и подготовка корпуса"
   ]
  },
  {
   "cell_type": "code",
   "execution_count": 2,
   "metadata": {
    "ExecuteTime": {
     "end_time": "2019-10-29T19:19:31.270503Z",
     "start_time": "2019-10-29T19:19:30.787789Z"
    }
   },
   "outputs": [
    {
     "name": "stdout",
     "output_type": "stream",
     "text": [
      "Обучающая выборка 125344\n",
      "Тестовая выборка 53719\n",
      "\n",
      "1/4 cup sour cream\n",
      "10 ounces swordfish, red snapper or other firm-fleshed fish\n",
      "1 tablespoon minced basil leaves\n",
      "Handful fresh parsley, finely minced\n",
      "4 ounces lard or butter, plus more for brushing tops\n",
      "4 to 5 green cardamom pods\n",
      "1 stick ( 1/4 pound) unsalted butter, softened\n",
      "1/4 teaspoon red pepper flakes, preferably Turkish or Aleppo (see note), more to taste\n",
      "1 tablespoon fresh lemon juice\n",
      "1/4 cup scallions, thinly sliced\n"
     ]
    }
   ],
   "source": [
    "# Если Вы запускаете ноутбук на colab, добавьте в начало пути /content/stepik-dl-nlp\n",
    "full_dataset = list(pd.read_csv('./datasets/nyt-ingredients-snapshot-2015.csv')['input'].dropna())\n",
    "random.shuffle(full_dataset)\n",
    "\n",
    "TRAIN_VAL_SPLIT = int(len(full_dataset) * 0.7)\n",
    "train_source = full_dataset[:TRAIN_VAL_SPLIT]\n",
    "test_source = full_dataset[TRAIN_VAL_SPLIT:]\n",
    "print(\"Обучающая выборка\", len(train_source))\n",
    "print(\"Тестовая выборка\", len(test_source))\n",
    "print()\n",
    "print('\\n'.join(train_source[:10]))"
   ]
  },
  {
   "cell_type": "code",
   "execution_count": 3,
   "metadata": {
    "ExecuteTime": {
     "end_time": "2019-10-29T19:19:32.137838Z",
     "start_time": "2019-10-29T19:19:31.272363Z"
    }
   },
   "outputs": [
    {
     "name": "stdout",
     "output_type": "stream",
     "text": [
      "sour cream\n",
      "ounces swordfish snapper other firm fleshed fish\n",
      "tablespoon minced basil leaves\n",
      "handful fresh parsley finely minced\n",
      "ounces lard butter plus more brushing tops\n",
      "green cardamom pods\n",
      "stick pound unsalted butter softened\n",
      "teaspoon pepper flakes preferably turkish aleppo note more taste\n",
      "tablespoon fresh lemon juice\n",
      "scallions thinly sliced\n"
     ]
    }
   ],
   "source": [
    "# токенизируем\n",
    "train_tokenized = tokenize_corpus(train_source)\n",
    "test_tokenized = tokenize_corpus(test_source)\n",
    "print('\\n'.join(' '.join(sent) for sent in train_tokenized[:10]))"
   ]
  },
  {
   "cell_type": "code",
   "execution_count": 4,
   "metadata": {
    "ExecuteTime": {
     "end_time": "2019-10-29T19:19:32.325205Z",
     "start_time": "2019-10-29T19:19:32.140837Z"
    }
   },
   "outputs": [
    {
     "name": "stdout",
     "output_type": "stream",
     "text": [
      "Размер словаря 2267\n",
      "[('<PAD>', 0), ('tablespoons', 1), ('teaspoon', 2), ('chopped', 3), ('salt', 4), ('pepper', 5), ('cups', 6), ('ground', 7), ('fresh', 8), ('tablespoon', 9)]\n"
     ]
    }
   ],
   "source": [
    "# строим словарь\n",
    "vocabulary, word_doc_freq = build_vocabulary(train_tokenized, max_doc_freq=0.9, min_count=5, pad_word='<PAD>')\n",
    "print(\"Размер словаря\", len(vocabulary))\n",
    "print(list(vocabulary.items())[:10])"
   ]
  },
  {
   "cell_type": "code",
   "execution_count": 5,
   "metadata": {
    "ExecuteTime": {
     "end_time": "2019-10-29T19:19:32.686258Z",
     "start_time": "2019-10-29T19:19:32.327711Z"
    }
   },
   "outputs": [
    {
     "name": "stdout",
     "output_type": "stream",
     "text": [
      "222 52\n",
      "22 878 574 127 246 707 181\n",
      "9 19 88 33\n",
      "517 8 43 15 19\n",
      "22 586 20 45 47 649 648\n",
      "59 329 535\n",
      "200 12 50 20 266\n",
      "2 5 140 78 1208 735 153 47 10\n",
      "9 8 31 25\n",
      "98 65 27\n"
     ]
    }
   ],
   "source": [
    "# отображаем в номера токенов\n",
    "train_token_ids = texts_to_token_ids(train_tokenized, vocabulary)\n",
    "test_token_ids = texts_to_token_ids(test_tokenized, vocabulary)\n",
    "\n",
    "print('\\n'.join(' '.join(str(t) for t in sent)\n",
    "                for sent in train_token_ids[:10]))"
   ]
  },
  {
   "cell_type": "code",
   "execution_count": 6,
   "metadata": {
    "ExecuteTime": {
     "end_time": "2019-10-29T19:19:32.967989Z",
     "start_time": "2019-10-29T19:19:32.688319Z"
    }
   },
   "outputs": [
    {
     "data": {
      "image/png": "[encoded data removed]",
      "text/plain": [
       "<Figure size 432x288 with 1 Axes>"
      ]
     },
     "metadata": {
      "needs_background": "light"
     },
     "output_type": "display_data"
    }
   ],
   "source": [
    "plt.hist([len(s) for s in train_token_ids], bins=20);\n",
    "plt.title('Гистограмма длин предложений');"
   ]
  },
  {
   "cell_type": "code",
   "execution_count": 7,
   "metadata": {
    "ExecuteTime": {
     "end_time": "2019-10-29T19:19:33.001487Z",
     "start_time": "2019-10-29T19:19:32.970153Z"
    }
   },
   "outputs": [
    {
     "name": "stdout",
     "output_type": "stream",
     "text": [
      "(tensor([222,  52,   0,   0,   0,   0,   0,   0,   0,   0,   0,   0,   0,   0,\n",
      "          0,   0,   0,   0,   0,   0]), tensor(0))\n"
     ]
    }
   ],
   "source": [
    "MAX_SENTENCE_LEN = 20\n",
    "train_dataset = PaddedSequenceDataset(train_token_ids,\n",
    "                                      np.zeros(len(train_token_ids)),\n",
    "                                      out_len=MAX_SENTENCE_LEN)\n",
    "test_dataset = PaddedSequenceDataset(test_token_ids,\n",
    "                                     np.zeros(len(test_token_ids)),\n",
    "                                     out_len=MAX_SENTENCE_LEN)\n",
    "print(train_dataset[0])"
   ]
  },
  {
   "cell_type": "markdown",
   "metadata": {},
   "source": [
    "## Алгоритм обучения - Skip Gram Negative Sampling\n",
    "\n",
    "**Skip Gram** - предсказываем соседние слова по центральному слову\n",
    "\n",
    "**Negative Sampling** - аппроксимация softmax\n",
    "\n",
    "$$ W, D \\in \\mathbb{R}^{Vocab \\times EmbSize} $$\n",
    "\n",
    "$$ \\sum_{CenterW_i} P(CtxW_{-2}, CtxW_{-1}, CtxW_{+1}, CtxW_{+2} | CenterW_i; W, D) \\rightarrow \\max_{W,D} $$\n",
    "\n",
    "$$ P(CtxW_{-2}, CtxW_{-1}, CtxW_{+1}, CtxW_{+2} | CenterW_i; W, D) = \\prod_j P(CtxW_j | CenterW_i; W, D) $$\n",
    "    \n",
    "$$ P(CtxW_j | CenterW_i; W, D) = \\frac{e^{w_i \\cdot d_j}} { \\sum_{j=1}^{|V|} e^{w_i \\cdot d_j}} = softmax \\simeq \\frac{e^{w_i \\cdot d_j^+}} { \\sum_{j=1}^{k} e^{w_i \\cdot d_j^-}}, \\quad k \\ll |V| $$"
   ]
  },
  {
   "cell_type": "code",
   "execution_count": 8,
   "metadata": {
    "ExecuteTime": {
     "end_time": "2019-10-29T19:19:33.065376Z",
     "start_time": "2019-10-29T19:19:33.003081Z"
    }
   },
   "outputs": [
    {
     "data": {
      "text/plain": [
       "tensor([[0., 1., 1., 1., 0., 0., 0., 0., 0., 0.],\n",
       "        [1., 0., 1., 1., 1., 0., 0., 0., 0., 0.],\n",
       "        [1., 1., 0., 1., 1., 1., 0., 0., 0., 0.],\n",
       "        [1., 1., 1., 0., 1., 1., 1., 0., 0., 0.],\n",
       "        [0., 1., 1., 1., 0., 1., 1., 1., 0., 0.],\n",
       "        [0., 0., 1., 1., 1., 0., 1., 1., 1., 0.],\n",
       "        [0., 0., 0., 1., 1., 1., 0., 1., 1., 1.],\n",
       "        [0., 0., 0., 0., 1., 1., 1., 0., 1., 1.],\n",
       "        [0., 0., 0., 0., 0., 1., 1., 1., 0., 1.],\n",
       "        [0., 0., 0., 0., 0., 0., 1., 1., 1., 0.]])"
      ]
     },
     "execution_count": 8,
     "metadata": {},
     "output_type": "execute_result"
    }
   ],
   "source": [
    "def make_diag_mask(size, radius):\n",
    "    \"\"\"Квадратная матрица размера Size x Size с двумя полосами ширины radius вдоль главной диагонали\"\"\"\n",
    "    idxs = torch.arange(size)\n",
    "    abs_idx_diff = (idxs.unsqueeze(0) - idxs.unsqueeze(1)).abs()\n",
    "    mask = ((abs_idx_diff <= radius) & (abs_idx_diff > 0)).float()\n",
    "    return mask\n",
    "\n",
    "make_diag_mask(10, 3)"
   ]
  },
  {
   "cell_type": "code",
   "execution_count": 10,
   "metadata": {
    "ExecuteTime": {
     "end_time": "2019-10-29T19:19:33.101379Z",
     "start_time": "2019-10-29T19:19:33.068154Z"
    }
   },
   "outputs": [],
   "source": [
    "class SkipGramNegativeSamplingTrainer(nn.Module):\n",
    "    def __init__(self, vocab_size, emb_size, sentence_len, radius=5, negative_samples_n=5):\n",
    "        super().__init__()\n",
    "        self.vocab_size = vocab_size\n",
    "        self.negative_samples_n = negative_samples_n\n",
    "\n",
    "        self.center_emb = nn.Embedding(self.vocab_size, emb_size, padding_idx=0)\n",
    "        self.center_emb.weight.data.uniform_(-1.0 / emb_size, 1.0 / emb_size)\n",
    "        self.center_emb.weight.data[0] = 0\n",
    "\n",
    "        self.context_emb = nn.Embedding(self.vocab_size, emb_size, padding_idx=0)        \n",
    "        self.context_emb.weight.data.uniform_(-1.0 / emb_size, 1.0 / emb_size)\n",
    "        self.context_emb.weight.data[0] = 0\n",
    "\n",
    "        self.positive_sim_mask = make_diag_mask(sentence_len, radius)\n",
    "    \n",
    "    def forward(self, sentences):\n",
    "        \"\"\"sentences - Batch x MaxSentLength - идентификаторы токенов\"\"\"\n",
    "        batch_size = sentences.shape[0]\n",
    "        center_embeddings = self.center_emb(sentences)  # Batch x MaxSentLength x EmbSize\n",
    "\n",
    "        # оценить сходство с настоящими соседними словами\n",
    "        positive_context_embs = self.context_emb(sentences).permute(0, 2, 1)  # Batch x EmbSize x MaxSentLength\n",
    "        positive_sims = torch.bmm(center_embeddings, positive_context_embs)  # Batch x MaxSentLength x MaxSentLength\n",
    "        positive_probs = torch.sigmoid(positive_sims)\n",
    "\n",
    "        # увеличить оценку вероятности встретить эти пары слов вместе\n",
    "        positive_mask = self.positive_sim_mask.to(positive_sims.device)\n",
    "        positive_loss = F.binary_cross_entropy(positive_probs * positive_mask,\n",
    "                                               positive_mask.expand_as(positive_probs))\n",
    "\n",
    "        # выбрать случайные \"отрицательные\" слова\n",
    "        negative_words = torch.randint(1, self.vocab_size,\n",
    "                                       size=(batch_size, self.negative_samples_n),\n",
    "                                       device=sentences.device)  # Batch x NegSamplesN\n",
    "        negative_context_embs = self.context_emb(negative_words).permute(0, 2, 1)  # Batch x EmbSize x NegSamplesN\n",
    "        negative_sims = torch.bmm(center_embeddings, negative_context_embs)  # Batch x MaxSentLength x NegSamplesN\n",
    "        \n",
    "        # уменьшить оценку вероятность встретить эти пары слов вместе\n",
    "        negative_loss = F.binary_cross_entropy_with_logits(negative_sims,\n",
    "                                                           negative_sims.new_zeros(negative_sims.shape))\n",
    "\n",
    "        return positive_loss + negative_loss\n",
    "\n",
    "\n",
    "def no_loss(pred, target):\n",
    "    \"\"\"Фиктивная функция потерь - когда модель сама считает функцию потерь\"\"\"\n",
    "    return pred"
   ]
  },
  {
   "cell_type": "markdown",
   "metadata": {},
   "source": [
    "## Обучение"
   ]
  },
  {
   "cell_type": "code",
   "execution_count": 11,
   "metadata": {
    "ExecuteTime": {
     "end_time": "2019-10-29T19:19:33.130307Z",
     "start_time": "2019-10-29T19:19:33.103036Z"
    }
   },
   "outputs": [],
   "source": [
    "trainer = SkipGramNegativeSamplingTrainer(len(vocabulary), 100, MAX_SENTENCE_LEN,\n",
    "                                          radius=5, negative_samples_n=25)"
   ]
  },
  {
   "cell_type": "code",
   "execution_count": 32,
   "metadata": {
    "ExecuteTime": {
     "end_time": "2019-10-29T19:20:12.830221Z",
     "start_time": "2019-10-29T19:19:33.132062Z"
    }
   },
   "outputs": [
    {
     "name": "stdout",
     "output_type": "stream",
     "text": [
      "Эпоха 0\n",
      "Эпоха: 2001 итераций, 13.78 сек\n",
      "Среднее значение функции потерь на обучении 0.8806820221688377\n",
      "Среднее значение функции потерь на валидации 0.8791116106181738\n",
      "Новая лучшая модель!\n",
      "\n",
      "Эпоха 1\n",
      "Эпоха: 2001 итераций, 12.38 сек\n",
      "Среднее значение функции потерь на обучении 0.8770033371621284\n",
      "Среднее значение функции потерь на валидации 0.8777028656857988\n",
      "Новая лучшая модель!\n",
      "\n",
      "Эпоха 2\n",
      "Эпоха: 2001 итераций, 12.62 сек\n",
      "Среднее значение функции потерь на обучении 0.8768325976167304\n",
      "Среднее значение функции потерь на валидации 0.8771912086835479\n",
      "Новая лучшая модель!\n",
      "\n",
      "Эпоха 3\n",
      "Эпоха: 2001 итераций, 16.46 сек\n",
      "Среднее значение функции потерь на обучении 0.8768312122629977\n",
      "Среднее значение функции потерь на валидации 0.8769201882011572\n",
      "Новая лучшая модель!\n",
      "\n",
      "Эпоха 4\n",
      "Эпоха: 2001 итераций, 13.16 сек\n",
      "Среднее значение функции потерь на обучении 0.8759493243390474\n",
      "Среднее значение функции потерь на валидации 0.8773204812609431\n",
      "\n",
      "Эпоха 5\n",
      "Эпоха: 2001 итераций, 12.81 сек\n",
      "Среднее значение функции потерь на обучении 0.8766892026329803\n",
      "Среднее значение функции потерь на валидации 0.8775363522949986\n",
      "Epoch     5: reducing learning rate of group 0 to 1.0000e-03.\n",
      "\n",
      "Эпоха 6\n",
      "Эпоха: 2001 итераций, 12.67 сек\n",
      "Среднее значение функции потерь на обучении 0.8721394269898913\n",
      "Среднее значение функции потерь на валидации 0.8727324420182632\n",
      "Новая лучшая модель!\n",
      "\n",
      "Эпоха 7\n",
      "Эпоха: 2001 итераций, 12.95 сек\n",
      "Среднее значение функции потерь на обучении 0.8691422515425427\n",
      "Среднее значение функции потерь на валидации 0.8714198033754629\n",
      "Новая лучшая модель!\n",
      "\n",
      "Эпоха 8\n",
      "Эпоха: 2001 итераций, 12.75 сек\n",
      "Среднее значение функции потерь на обучении 0.8679721568716222\n",
      "Среднее значение функции потерь на валидации 0.8703157580262765\n",
      "Новая лучшая модель!\n",
      "\n",
      "Эпоха 9\n",
      "Эпоха: 2001 итераций, 13.56 сек\n",
      "Среднее значение функции потерь на обучении 0.8666087260906367\n",
      "Среднее значение функции потерь на валидации 0.8698161749722615\n",
      "Новая лучшая модель!\n",
      "\n"
     ]
    }
   ],
   "source": [
    "best_val_loss, best_model = train_eval_loop(trainer,\n",
    "                                            train_dataset,\n",
    "                                            test_dataset,\n",
    "                                            no_loss,\n",
    "                                            lr=1e-2,\n",
    "                                            epoch_n=10,\n",
    "                                            batch_size=8,\n",
    "                                            device='cpu',\n",
    "                                            early_stopping_patience=10,\n",
    "                                            max_batches_per_epoch_train=2000,\n",
    "                                            max_batches_per_epoch_val=len(test_dataset),\n",
    "                                            lr_scheduler_ctor=lambda optim: torch.optim.lr_scheduler.ReduceLROnPlateau(optim, patience=1, verbose=True))"
   ]
  },
  {
   "cell_type": "code",
   "execution_count": 13,
   "metadata": {
    "ExecuteTime": {
     "end_time": "2019-10-29T19:20:12.862018Z",
     "start_time": "2019-10-29T19:20:12.832046Z"
    }
   },
   "outputs": [],
   "source": [
    "# Если Вы запускаете ноутбук на colab, добавьте в начало пути /content/stepik-dl-nlp\n",
    "torch.save(trainer.state_dict(), 'models/sgns.pth')"
   ]
  },
  {
   "cell_type": "code",
   "execution_count": 14,
   "metadata": {
    "ExecuteTime": {
     "end_time": "2019-10-29T19:20:12.888270Z",
     "start_time": "2019-10-29T19:20:12.864706Z"
    }
   },
   "outputs": [
    {
     "data": {
      "text/plain": [
       "<All keys matched successfully>"
      ]
     },
     "execution_count": 14,
     "metadata": {},
     "output_type": "execute_result"
    }
   ],
   "source": [
    "# Если Вы запускаете ноутбук на colab, добавьте в начало пути /content/stepik-dl-nlp\n",
    "trainer.load_state_dict(torch.load('models/sgns.pth'))"
   ]
  },
  {
   "cell_type": "markdown",
   "metadata": {},
   "source": [
    "## Исследуем характеристики полученных векторов"
   ]
  },
  {
   "cell_type": "code",
   "execution_count": 33,
   "metadata": {
    "ExecuteTime": {
     "end_time": "2019-10-29T19:20:12.919904Z",
     "start_time": "2019-10-29T19:20:12.890671Z"
    }
   },
   "outputs": [],
   "source": [
    "embeddings = Embeddings(trainer.center_emb.weight.detach().cpu().numpy(), vocabulary)"
   ]
  },
  {
   "cell_type": "code",
   "execution_count": 35,
   "metadata": {
    "ExecuteTime": {
     "end_time": "2019-10-29T19:20:12.942708Z",
     "start_time": "2019-10-29T19:20:12.921619Z"
    }
   },
   "outputs": [
    {
     "data": {
      "text/plain": [
       "[('beer', 0.99995655),\n",
       " ('bottle', 0.49929923),\n",
       " ('muscat', 0.48271948),\n",
       " ('goose', 0.4144981),\n",
       " ('burgundy', 0.40366605),\n",
       " ('merlot', 0.3996591),\n",
       " ('gosling', 0.3930443),\n",
       " ('zinfandel', 0.3752725),\n",
       " ('beaujolais', 0.3670579),\n",
       " ('cabernet', 0.36652368)]"
      ]
     },
     "execution_count": 35,
     "metadata": {},
     "output_type": "execute_result"
    }
   ],
   "source": [
    "embeddings.most_similar('beer')"
   ]
  },
  {
   "cell_type": "code",
   "execution_count": 36,
   "metadata": {
    "ExecuteTime": {
     "end_time": "2019-10-29T19:20:12.965936Z",
     "start_time": "2019-10-29T19:20:12.944423Z"
    }
   },
   "outputs": [
    {
     "data": {
      "text/plain": [
       "[('cacao', 1.0737996),\n",
       " ('beer', 0.9250508),\n",
       " ('oily', 0.6830437),\n",
       " ('kept', 0.6606877),\n",
       " ('solids', 0.6582306),\n",
       " ('shards', 0.65772915),\n",
       " ('guinness', 0.63721776),\n",
       " ('albacore', 0.6336411),\n",
       " ('gizzards', 0.6311453),\n",
       " ('uses', 0.62206584)]"
      ]
     },
     "execution_count": 36,
     "metadata": {},
     "output_type": "execute_result"
    }
   ],
   "source": [
    "embeddings.analogy('cake', 'cacao', 'beer')"
   ]
  },
  {
   "cell_type": "code",
   "execution_count": 18,
   "metadata": {
    "ExecuteTime": {
     "end_time": "2019-10-29T19:20:12.991060Z",
     "start_time": "2019-10-29T19:20:12.967532Z"
    }
   },
   "outputs": [
    {
     "name": "stdout",
     "output_type": "stream",
     "text": [
      "(18, 100)\n"
     ]
    }
   ],
   "source": [
    "test_words = ['salad', 'fish', 'salmon', 'sauvignon', 'beef', 'pork', 'steak', 'beer', 'cake', 'coffee', 'sausage', 'wine', 'merlot', 'zinfandel', 'trout', 'chardonnay', 'champagne', 'cacao']\n",
    "test_vectors = embeddings.get_vectors(*test_words)\n",
    "print(test_vectors.shape)"
   ]
  },
  {
   "cell_type": "code",
   "execution_count": 19,
   "metadata": {
    "ExecuteTime": {
     "end_time": "2019-10-29T19:20:13.318676Z",
     "start_time": "2019-10-29T19:20:12.996595Z"
    }
   },
   "outputs": [
    {
     "data": {
      "image/png": "[encoded data removed]",
      "text/plain": [
       "<Figure size 720x720 with 1 Axes>"
      ]
     },
     "metadata": {
      "needs_background": "light"
     },
     "output_type": "display_data"
    }
   ],
   "source": [
    "fig, ax = plt.subplots()\n",
    "fig.set_size_inches((10, 10))\n",
    "plot_vectors(test_vectors, test_words, how='svd', ax=ax)"
   ]
  },
  {
   "cell_type": "markdown",
   "metadata": {},
   "source": [
    "## Обучение Word2Vec с помощью Gensim"
   ]
  },
  {
   "cell_type": "code",
   "execution_count": 23,
   "metadata": {
    "ExecuteTime": {
     "end_time": "2019-10-29T19:20:13.613797Z",
     "start_time": "2019-10-29T19:20:13.321353Z"
    }
   },
   "outputs": [],
   "source": [
    "import gensim"
   ]
  },
  {
   "cell_type": "code",
   "execution_count": 24,
   "metadata": {
    "ExecuteTime": {
     "end_time": "2019-10-29T19:20:17.075005Z",
     "start_time": "2019-10-29T19:20:13.615729Z"
    }
   },
   "outputs": [],
   "source": [
    "word2vec = gensim.models.Word2Vec(sentences=train_tokenized, size=100,\n",
    "                                  window=5, min_count=5, workers=4,\n",
    "                                  sg=1, iter=10)"
   ]
  },
  {
   "cell_type": "code",
   "execution_count": 43,
   "metadata": {
    "ExecuteTime": {
     "end_time": "2019-10-29T19:20:17.109583Z",
     "start_time": "2019-10-29T19:20:17.076599Z"
    }
   },
   "outputs": [
    {
     "data": {
      "text/plain": [
       "[('demerara', 0.7361228466033936),\n",
       " ('turbinado', 0.712757408618927),\n",
       " ('granulated', 0.7018676400184631),\n",
       " ('confectioners', 0.6913775205612183),\n",
       " ('confectioner', 0.6483076810836792),\n",
       " ('superfine', 0.6351076364517212),\n",
       " ('maple', 0.6149501800537109),\n",
       " ('fair', 0.6118777990341187),\n",
       " ('trade', 0.603325605392456),\n",
       " ('sifted', 0.5996816754341125)]"
      ]
     },
     "execution_count": 43,
     "metadata": {},
     "output_type": "execute_result"
    }
   ],
   "source": [
    "word2vec.wv.most_similar('sugar')"
   ]
  },
  {
   "cell_type": "code",
   "execution_count": 26,
   "metadata": {
    "ExecuteTime": {
     "end_time": "2019-10-29T19:20:17.176357Z",
     "start_time": "2019-10-29T19:20:17.112948Z"
    }
   },
   "outputs": [],
   "source": [
    "gensim_words = [w for w in test_words if w in word2vec.wv.vocab]\n",
    "gensim_vectors = np.stack([word2vec.wv[w] for w in gensim_words])"
   ]
  },
  {
   "cell_type": "code",
   "execution_count": 27,
   "metadata": {
    "ExecuteTime": {
     "end_time": "2019-10-29T19:20:17.428874Z",
     "start_time": "2019-10-29T19:20:17.179311Z"
    }
   },
   "outputs": [
    {
     "data": {
      "image/png": "[encoded data removed]",
      "text/plain": [
       "<Figure size 720x720 with 1 Axes>"
      ]
     },
     "metadata": {
      "needs_background": "light"
     },
     "output_type": "display_data"
    }
   ],
   "source": [
    "fig, ax = plt.subplots()\n",
    "fig.set_size_inches((10, 10))\n",
    "plot_vectors(gensim_vectors, test_words, how='svd', ax=ax)"
   ]
  },
  {
   "cell_type": "markdown",
   "metadata": {},
   "source": [
    "## Загрузка предобученного Word2Vec\n",
    "\n",
    "Источники готовых векторов:\n",
    "\n",
    "https://rusvectores.org/ru/ - для русского языка\n",
    "\n",
    "https://wikipedia2vec.github.io/wikipedia2vec/pretrained/ - много разных языков"
   ]
  },
  {
   "cell_type": "code",
   "execution_count": 28,
   "metadata": {
    "ExecuteTime": {
     "end_time": "2019-10-29T19:20:17.460133Z",
     "start_time": "2019-10-29T19:20:17.430563Z"
    }
   },
   "outputs": [],
   "source": [
    "import gensim.downloader as api"
   ]
  },
  {
   "cell_type": "code",
   "execution_count": 29,
   "metadata": {
    "ExecuteTime": {
     "end_time": "2019-10-29T19:20:17.980509Z",
     "start_time": "2019-10-29T19:20:17.462239Z"
    }
   },
   "outputs": [
    {
     "name": "stdout",
     "output_type": "stream",
     "text": [
      "fasttext-wiki-news-subwords-300\n",
      "conceptnet-numberbatch-17-06-300\n",
      "word2vec-ruscorpora-300\n",
      "word2vec-google-news-300\n",
      "glove-wiki-gigaword-50\n",
      "glove-wiki-gigaword-100\n",
      "glove-wiki-gigaword-200\n",
      "glove-wiki-gigaword-300\n",
      "glove-twitter-25\n",
      "glove-twitter-50\n",
      "glove-twitter-100\n",
      "glove-twitter-200\n",
      "__testing_word2vec-matrix-synopsis\n"
     ]
    }
   ],
   "source": [
    "available_models = api.info()['models'].keys()\n",
    "print('\\n'.join(available_models))"
   ]
  },
  {
   "cell_type": "code",
   "execution_count": 44,
   "metadata": {
    "ExecuteTime": {
     "end_time": "2019-10-29T19:22:12.649035Z",
     "start_time": "2019-10-29T19:20:17.984118Z"
    }
   },
   "outputs": [
    {
     "name": "stdout",
     "output_type": "stream",
     "text": [
      "[==================================================] 100.0% 66.0/66.0MB downloaded\n"
     ]
    }
   ],
   "source": [
    "pretrained = api.load('glove-wiki-gigaword-50')  # 66 MB!"
   ]
  },
  {
   "cell_type": "code",
   "execution_count": 45,
   "metadata": {
    "ExecuteTime": {
     "end_time": "2019-10-29T19:22:12.651388Z",
     "start_time": "2019-10-29T19:19:29.817Z"
    }
   },
   "outputs": [
    {
     "data": {
      "text/plain": [
       "[('cheeses', 0.8547170162200928),\n",
       " ('sausage', 0.8526093363761902),\n",
       " ('butter', 0.8424381613731384),\n",
       " ('mozzarella', 0.827099084854126),\n",
       " ('chocolate', 0.8219972252845764),\n",
       " ('cream', 0.8195490837097168),\n",
       " ('baked', 0.8173379302024841),\n",
       " ('tomato', 0.8121663331985474),\n",
       " ('bread', 0.8100365996360779),\n",
       " ('sandwich', 0.8001031279563904)]"
      ]
     },
     "execution_count": 45,
     "metadata": {},
     "output_type": "execute_result"
    }
   ],
   "source": [
    "pretrained.most_similar('cheese')"
   ]
  },
  {
   "cell_type": "code",
   "execution_count": 46,
   "metadata": {
    "ExecuteTime": {
     "end_time": "2019-10-29T19:22:12.652649Z",
     "start_time": "2019-10-29T19:19:29.820Z"
    }
   },
   "outputs": [
    {
     "data": {
      "text/plain": [
       "[('woman', 0.8947036266326904),\n",
       " ('girl', 0.8489534258842468),\n",
       " ('her', 0.7932074666023254),\n",
       " ('boy', 0.7824063897132874),\n",
       " ('she', 0.770073413848877),\n",
       " ('herself', 0.765061616897583),\n",
       " ('mother', 0.733394980430603),\n",
       " ('blind', 0.7331175208091736),\n",
       " ('blonde', 0.7081400156021118),\n",
       " ('old', 0.7048675417900085)]"
      ]
     },
     "execution_count": 46,
     "metadata": {},
     "output_type": "execute_result"
    }
   ],
   "source": [
    "pretrained.most_similar(positive=['man', 'queen'], negative=['king'])"
   ]
  },
  {
   "cell_type": "code",
   "execution_count": 65,
   "metadata": {},
   "outputs": [
    {
     "data": {
      "text/plain": [
       "[('nearctic', 0.5587528347969055),\n",
       " ('netherlands', 0.5550412535667419),\n",
       " ('switzerland', 0.5528685450553894),\n",
       " ('pyridoxal', 0.5415673851966858),\n",
       " ('pilbara', 0.541316568851471),\n",
       " ('indomalaya', 0.5410953760147095),\n",
       " ('ecozone', 0.5391345024108887),\n",
       " ('belgium', 0.5290377736091614),\n",
       " ('south-central', 0.5278849601745605),\n",
       " ('scandinavia', 0.5249024629592896)]"
      ]
     },
     "execution_count": 65,
     "metadata": {},
     "output_type": "execute_result"
    }
   ],
   "source": [
    "pretrained.most_similar(positive=['russia'], negative=['putin'])"
   ]
  },
  {
   "cell_type": "code",
   "execution_count": 47,
   "metadata": {
    "ExecuteTime": {
     "end_time": "2019-10-29T19:22:12.653584Z",
     "start_time": "2019-10-29T19:19:29.823Z"
    }
   },
   "outputs": [],
   "source": [
    "pretrained_words = [w for w in test_words if w in pretrained.vocab]\n",
    "pretrained_vectors = np.stack([pretrained[w] for w in pretrained_words])"
   ]
  },
  {
   "cell_type": "code",
   "execution_count": 48,
   "metadata": {
    "ExecuteTime": {
     "end_time": "2019-10-29T19:22:12.654594Z",
     "start_time": "2019-10-29T19:19:29.828Z"
    }
   },
   "outputs": [
    {
     "data": {
      "image/png": "[encoded data removed]",
      "text/plain": [
       "<Figure size 720x720 with 1 Axes>"
      ]
     },
     "metadata": {
      "needs_background": "light"
     },
     "output_type": "display_data"
    }
   ],
   "source": [
    "fig, ax = plt.subplots()\n",
    "fig.set_size_inches((10, 10))\n",
    "plot_vectors(pretrained_vectors, test_words, how='svd', ax=ax)"
   ]
  },
  {
   "cell_type": "markdown",
   "metadata": {},
   "source": [
    "## Заключение\n",
    "\n",
    "* Реализовали Skip Gram Negative Sampling на PyTorch\n",
    "* Обучили на корпусе рецептов\n",
    "    * Сходство слов модель выучила неплохо\n",
    "    * Для аналогий мало данных\n",
    "* Обучили SGNS с помощью библиотеки Gensim\n",
    "* Загрузили веса Word2Vec, полученные с помощью большого корпуса (GoogleNews)\n",
    "    * Списки похожих слов отличаются!\n",
    "    * Аналогии работают"
   ]
  }
 ],
 "metadata": {
  "kernelspec": {
   "display_name": "Python 3",
   "language": "python",
   "name": "python3"
  },
  "language_info": {
   "codemirror_mode": {
    "name": "ipython",
    "version": 3
   },
   "file_extension": ".py",
   "mimetype": "text/x-python",
   "name": "python",
   "nbconvert_exporter": "python",
   "pygments_lexer": "ipython3",
   "version": "3.6.8"
  },
  "latex_envs": {
   "LaTeX_envs_menu_present": true,
   "autoclose": false,
   "autocomplete": true,
   "bibliofile": "biblio.bib",
   "cite_by": "apalike",
   "current_citInitial": 1,
   "eqLabelWithNumbers": true,
   "eqNumInitial": 1,
   "hotkeys": {
    "equation": "Ctrl-E",
    "itemize": "Ctrl-I"
   },
   "labels_anchors": false,
   "latex_user_defs": false,
   "report_style_numbering": false,
   "user_envs_cfg": false
  },
  "toc": {
   "base_numbering": 1,
   "nav_menu": {},
   "number_sections": true,
   "sideBar": true,
   "skip_h1_title": false,
   "title_cell": "Table of Contents",
   "title_sidebar": "Contents",
   "toc_cell": false,
   "toc_position": {},
   "toc_section_display": true,
   "toc_window_display": false
  }
 },
 "nbformat": 4,
 "nbformat_minor": 4
}
